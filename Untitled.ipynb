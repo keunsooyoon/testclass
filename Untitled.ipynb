{
 "cells": [
  {
   "cell_type": "code",
   "execution_count": 2,
   "id": "67b79e52",
   "metadata": {},
   "outputs": [
    {
     "name": "stdout",
     "output_type": "stream",
     "text": [
      "Hello World\n"
     ]
    }
   ],
   "source": [
    "print('Hello World')"
   ]
  },
  {
   "cell_type": "code",
   "execution_count": 3,
   "id": "84ee5a93",
   "metadata": {},
   "outputs": [],
   "source": [
    "# 비시퀀스와 for문"
   ]
  },
  {
   "cell_type": "code",
   "execution_count": 4,
   "id": "07b34f91",
   "metadata": {},
   "outputs": [
    {
     "name": "stdout",
     "output_type": "stream",
     "text": [
      "가위\n",
      "보\n",
      "바위\n"
     ]
    }
   ],
   "source": [
    "for item in {'가위','바위','보'}:\n",
    "    print(item)"
   ]
  },
  {
   "cell_type": "code",
   "execution_count": 5,
   "id": "c89ea1d3",
   "metadata": {},
   "outputs": [
    {
     "name": "stdout",
     "output_type": "stream",
     "text": [
      "name\n",
      "age\n"
     ]
    }
   ],
   "source": [
    "person = {'name':'에밀리', 'age':'20'}\n",
    "for item in person:\n",
    "    print(item)"
   ]
  },
  {
   "cell_type": "code",
   "execution_count": 6,
   "id": "550557c7",
   "metadata": {},
   "outputs": [
    {
     "name": "stdout",
     "output_type": "stream",
     "text": [
      "에밀리\n",
      "20\n"
     ]
    }
   ],
   "source": [
    "for key in person:\n",
    "    print(person[key])"
   ]
  },
  {
   "cell_type": "code",
   "execution_count": 7,
   "id": "087db32c",
   "metadata": {},
   "outputs": [
    {
     "name": "stdout",
     "output_type": "stream",
     "text": [
      "에밀리\n",
      "20\n"
     ]
    }
   ],
   "source": [
    "for key in person:\n",
    "    print(person.get(key))"
   ]
  },
  {
   "cell_type": "code",
   "execution_count": 8,
   "id": "55f2e5b5",
   "metadata": {},
   "outputs": [
    {
     "name": "stdout",
     "output_type": "stream",
     "text": [
      "1\n",
      "2\n",
      "3\n",
      "4\n",
      "5\n",
      "6\n",
      "7\n",
      "8\n",
      "9\n",
      "10\n"
     ]
    }
   ],
   "source": [
    "n = 1\n",
    "while n <= 10:\n",
    "    print(n)\n",
    "    n += 1 # n = n + 1  "
   ]
  },
  {
   "cell_type": "code",
   "execution_count": 9,
   "id": "bcd33119",
   "metadata": {},
   "outputs": [
    {
     "name": "stdout",
     "output_type": "stream",
     "text": [
      "1\n",
      "2\n",
      "3\n",
      "4\n",
      "5\n",
      "6\n",
      "7\n",
      "8\n",
      "9\n",
      "10\n"
     ]
    }
   ],
   "source": [
    "n = 1\n",
    "while True:\n",
    "    print(n)\n",
    "    if n == 10:\n",
    "        break\n",
    "    n+=1\n",
    "    \n",
    "    "
   ]
  },
  {
   "cell_type": "code",
   "execution_count": null,
   "id": "86d6e4f0",
   "metadata": {},
   "outputs": [],
   "source": []
  },
  {
   "cell_type": "code",
   "execution_count": 11,
   "id": "b230b81b",
   "metadata": {},
   "outputs": [
    {
     "name": "stdout",
     "output_type": "stream",
     "text": [
      "3367\n"
     ]
    }
   ],
   "source": [
    "total = 0\n",
    "for a in range(1,101):\n",
    "    if a % 3 == 0:\n",
    "        continue\n",
    "    total += a  # total = total + a\n",
    "\n",
    "print(total)\n",
    "    "
   ]
  },
  {
   "cell_type": "code",
   "execution_count": 12,
   "id": "87300771",
   "metadata": {},
   "outputs": [
    {
     "name": "stdout",
     "output_type": "stream",
     "text": [
      "홍길동\n",
      "홍길동\n",
      "홍길동\n",
      "홍길동\n",
      "홍길동\n",
      "홍길동\n",
      "홍길동\n",
      "홍길동\n",
      "홍길동\n",
      "홍길동\n"
     ]
    }
   ],
   "source": [
    "n = 1\n",
    "while n <= 10:\n",
    "    print(\"홍길동\")\n",
    "    n += 1 # n = n + 1  "
   ]
  },
  {
   "cell_type": "code",
   "execution_count": 17,
   "id": "8dc76bff",
   "metadata": {},
   "outputs": [
    {
     "data": {
      "text/plain": [
       "'a'"
      ]
     },
     "execution_count": 17,
     "metadata": {},
     "output_type": "execute_result"
    }
   ],
   "source": [
    "chr(97)"
   ]
  },
  {
   "cell_type": "code",
   "execution_count": 18,
   "id": "563380d6",
   "metadata": {},
   "outputs": [
    {
     "data": {
      "text/plain": [
       "97"
      ]
     },
     "execution_count": 18,
     "metadata": {},
     "output_type": "execute_result"
    }
   ],
   "source": [
    "ord('a')"
   ]
  },
  {
   "cell_type": "code",
   "execution_count": 19,
   "id": "cbe8f742",
   "metadata": {},
   "outputs": [
    {
     "data": {
      "text/plain": [
       "300"
      ]
     },
     "execution_count": 19,
     "metadata": {},
     "output_type": "execute_result"
    }
   ],
   "source": [
    "eval('100+200')"
   ]
  },
  {
   "cell_type": "code",
   "execution_count": 20,
   "id": "6c7c294d",
   "metadata": {},
   "outputs": [
    {
     "data": {
      "text/plain": [
       "50"
      ]
     },
     "execution_count": 20,
     "metadata": {},
     "output_type": "execute_result"
    }
   ],
   "source": [
    "a = 10\n",
    "eval('a*5')"
   ]
  },
  {
   "cell_type": "code",
   "execution_count": 21,
   "id": "f55ee327",
   "metadata": {},
   "outputs": [
    {
     "data": {
      "text/plain": [
       "'10000'"
      ]
     },
     "execution_count": 21,
     "metadata": {},
     "output_type": "execute_result"
    }
   ],
   "source": [
    "format(10000)"
   ]
  },
  {
   "cell_type": "code",
   "execution_count": 22,
   "id": "9f191963",
   "metadata": {},
   "outputs": [
    {
     "data": {
      "text/plain": [
       "'10_000'"
      ]
     },
     "execution_count": 22,
     "metadata": {},
     "output_type": "execute_result"
    }
   ],
   "source": [
    "format(10000,'_')"
   ]
  },
  {
   "cell_type": "code",
   "execution_count": 24,
   "id": "a3fc4010",
   "metadata": {},
   "outputs": [
    {
     "data": {
      "text/plain": [
       "'100,000,000,000'"
      ]
     },
     "execution_count": 24,
     "metadata": {},
     "output_type": "execute_result"
    }
   ],
   "source": [
    "format(100000000000,',')"
   ]
  },
  {
   "cell_type": "code",
   "execution_count": 25,
   "id": "be161519",
   "metadata": {},
   "outputs": [
    {
     "name": "stdout",
     "output_type": "stream",
     "text": [
      "(0, '가위')\n",
      "(1, '바위')\n",
      "(2, '보')\n"
     ]
    }
   ],
   "source": [
    "for item in enumerate(['가위','바위','보']):\n",
    "    print(item)\n"
   ]
  },
  {
   "cell_type": "code",
   "execution_count": 26,
   "id": "99033f81",
   "metadata": {},
   "outputs": [
    {
     "name": "stdout",
     "output_type": "stream",
     "text": [
      "0 가위\n",
      "1 바위\n",
      "2 보\n"
     ]
    }
   ],
   "source": [
    "for idx, element in enumerate(['가위','바위','보']):\n",
    "    print(idx, element)"
   ]
  },
  {
   "cell_type": "code",
   "execution_count": 27,
   "id": "cc4425d4",
   "metadata": {},
   "outputs": [
    {
     "data": {
      "text/plain": [
       "[0, 1, 2, 3, 4, 5, 6, 7, 8, 9]"
      ]
     },
     "execution_count": 27,
     "metadata": {},
     "output_type": "execute_result"
    }
   ],
   "source": [
    "# range(start, stop, step)\n",
    "\n",
    "list(range(10))"
   ]
  },
  {
   "cell_type": "code",
   "execution_count": 28,
   "id": "a174a00c",
   "metadata": {},
   "outputs": [
    {
     "data": {
      "text/plain": [
       "[1, 2, 3, 4, 5, 6, 7, 8, 9, 10]"
      ]
     },
     "execution_count": 28,
     "metadata": {},
     "output_type": "execute_result"
    }
   ],
   "source": [
    "list(range(1,11))"
   ]
  },
  {
   "cell_type": "code",
   "execution_count": 29,
   "id": "6d2004a3",
   "metadata": {},
   "outputs": [
    {
     "data": {
      "text/plain": [
       "[0, 5, 10, 15, 20, 25]"
      ]
     },
     "execution_count": 29,
     "metadata": {},
     "output_type": "execute_result"
    }
   ],
   "source": [
    "list(range(0,30,5))"
   ]
  },
  {
   "cell_type": "code",
   "execution_count": 30,
   "id": "cbc2c45b",
   "metadata": {},
   "outputs": [
    {
     "data": {
      "text/plain": [
       "[0, 3, 6, 9]"
      ]
     },
     "execution_count": 30,
     "metadata": {},
     "output_type": "execute_result"
    }
   ],
   "source": [
    "list(range(0,10,3))"
   ]
  },
  {
   "cell_type": "code",
   "execution_count": 31,
   "id": "53097881",
   "metadata": {},
   "outputs": [
    {
     "data": {
      "text/plain": [
       "4"
      ]
     },
     "execution_count": 31,
     "metadata": {},
     "output_type": "execute_result"
    }
   ],
   "source": [
    "#len()\n",
    "\n",
    "li =['a','b','c','d']\n",
    "len(li)"
   ]
  },
  {
   "cell_type": "code",
   "execution_count": 32,
   "id": "b1e8fef8",
   "metadata": {},
   "outputs": [
    {
     "data": {
      "text/plain": [
       "[1, 2, 3, 4, 5, 6]"
      ]
     },
     "execution_count": 32,
     "metadata": {},
     "output_type": "execute_result"
    }
   ],
   "source": [
    "my_list = [6,3,1,2,5,4]\n",
    "sorted(my_list)"
   ]
  },
  {
   "cell_type": "code",
   "execution_count": 33,
   "id": "65458973",
   "metadata": {},
   "outputs": [
    {
     "data": {
      "text/plain": [
       "[6, 5, 4, 3, 2, 1]"
      ]
     },
     "execution_count": 33,
     "metadata": {},
     "output_type": "execute_result"
    }
   ],
   "source": [
    "sorted(my_list, reverse=True)"
   ]
  },
  {
   "cell_type": "code",
   "execution_count": 34,
   "id": "7f662c6c",
   "metadata": {},
   "outputs": [
    {
     "name": "stdout",
     "output_type": "stream",
     "text": [
      "('james', 60)\n",
      "('emily', 70)\n",
      "('amanda', 80)\n"
     ]
    }
   ],
   "source": [
    "name=['james','emily','amanda']\n",
    "scores=[60,70,80]\n",
    "\n",
    "for student in zip(name,scores):\n",
    "    print(student)"
   ]
  },
  {
   "cell_type": "code",
   "execution_count": null,
   "id": "e2b09b20",
   "metadata": {},
   "outputs": [],
   "source": [
    "# 'james','emily','amanda' 번호를 1,2,3 ....zip함수를 이용\n",
    "\n",
    "1번 학생은 james입니다.\n",
    ".\n",
    ".\n"
   ]
  },
  {
   "cell_type": "code",
   "execution_count": 35,
   "id": "08e2ddab",
   "metadata": {},
   "outputs": [],
   "source": [
    "#########################################################\n",
    "#매소드는 특정 기능 수행한다. \n",
    "#매소드는  특정 객체를 통해서만 호출할 수 있다. "
   ]
  },
  {
   "cell_type": "code",
   "execution_count": 36,
   "id": "dabfdf47",
   "metadata": {},
   "outputs": [
    {
     "name": "stdout",
     "output_type": "stream",
     "text": [
      "이름을 입력하세요홍길동\n",
      "홍길동\n"
     ]
    }
   ],
   "source": [
    "name = input('이름을 입력하세요')\n",
    "print(name)"
   ]
  },
  {
   "cell_type": "code",
   "execution_count": 38,
   "id": "d6ed5786",
   "metadata": {},
   "outputs": [
    {
     "data": {
      "text/plain": [
       "'apple'"
      ]
     },
     "execution_count": 38,
     "metadata": {},
     "output_type": "execute_result"
    }
   ],
   "source": [
    "my_list=[]\n",
    "my_list.append('apple')\n",
    "my_list.pop()"
   ]
  },
  {
   "cell_type": "code",
   "execution_count": 41,
   "id": "e7a1fc55",
   "metadata": {},
   "outputs": [
    {
     "name": "stdout",
     "output_type": "stream",
     "text": [
      "10자리 폭 왼쪽 정렬'123       '\n"
     ]
    }
   ],
   "source": [
    "print(\"10자리 폭 왼쪽 정렬'{:<10d}'\".format(123))"
   ]
  },
  {
   "cell_type": "code",
   "execution_count": 42,
   "id": "02c355ff",
   "metadata": {},
   "outputs": [
    {
     "name": "stdout",
     "output_type": "stream",
     "text": [
      "10자리 폭 오른쪽 정렬'       123'\n"
     ]
    }
   ],
   "source": [
    "print(\"10자리 폭 오른쪽 정렬'{:>10d}'\".format(123))"
   ]
  },
  {
   "cell_type": "code",
   "execution_count": 43,
   "id": "e71a81fb",
   "metadata": {},
   "outputs": [
    {
     "name": "stdout",
     "output_type": "stream",
     "text": [
      "10자리 폭 가운데 정렬'   123    '\n"
     ]
    }
   ],
   "source": [
    "print(\"10자리 폭 가운데 정렬'{:^10d}'\".format(123))"
   ]
  },
  {
   "cell_type": "code",
   "execution_count": 44,
   "id": "170bbd6c",
   "metadata": {},
   "outputs": [
    {
     "name": "stdout",
     "output_type": "stream",
     "text": [
      "10자리 폭 오른쪽 정렬'123*******'\n"
     ]
    }
   ],
   "source": [
    "print(\"10자리 폭 오른쪽 정렬'{:*<10d}'\".format(123))"
   ]
  },
  {
   "cell_type": "code",
   "execution_count": 45,
   "id": "fc509c70",
   "metadata": {},
   "outputs": [
    {
     "name": "stdout",
     "output_type": "stream",
     "text": [
      "10자리 폭 오른쪽 정렬'*******123'\n"
     ]
    }
   ],
   "source": [
    "print(\"10자리 폭 오른쪽 정렬'{:*>10d}'\".format(123))"
   ]
  },
  {
   "cell_type": "code",
   "execution_count": 46,
   "id": "294478de",
   "metadata": {},
   "outputs": [
    {
     "name": "stdout",
     "output_type": "stream",
     "text": [
      "10자리 폭 오른쪽 정렬'***123****'\n"
     ]
    }
   ],
   "source": [
    "print(\"10자리 폭 오른쪽 정렬'{:*^10d}'\".format(123))"
   ]
  },
  {
   "cell_type": "code",
   "execution_count": 47,
   "id": "5f53baa5",
   "metadata": {},
   "outputs": [
    {
     "data": {
      "text/plain": [
       "4"
      ]
     },
     "execution_count": 47,
     "metadata": {},
     "output_type": "execute_result"
    }
   ],
   "source": [
    "s = '내가 그린 기린 그림은 목 긴 기린 그림이고 네가 그린 기린 그림은 목 짧은 기린 그림이다.'\n",
    "s.count('기린')"
   ]
  },
  {
   "cell_type": "code",
   "execution_count": 48,
   "id": "8064d683",
   "metadata": {},
   "outputs": [
    {
     "data": {
      "text/plain": [
       "2"
      ]
     },
     "execution_count": 48,
     "metadata": {},
     "output_type": "execute_result"
    }
   ],
   "source": [
    "s = 'best of best'\n",
    "s.count('best')"
   ]
  },
  {
   "cell_type": "code",
   "execution_count": 49,
   "id": "ad82762a",
   "metadata": {},
   "outputs": [
    {
     "data": {
      "text/plain": [
       "1"
      ]
     },
     "execution_count": 49,
     "metadata": {},
     "output_type": "execute_result"
    }
   ],
   "source": [
    "s = 'best of best' \n",
    "매개변수  ==   인수\n",
    "s.count('best',5)"
   ]
  },
  {
   "cell_type": "code",
   "execution_count": null,
   "id": "1f8db4ea",
   "metadata": {},
   "outputs": [],
   "source": []
  },
  {
   "cell_type": "code",
   "execution_count": 50,
   "id": "23f3602e",
   "metadata": {},
   "outputs": [
    {
     "data": {
      "text/plain": [
       "1"
      ]
     },
     "execution_count": 50,
     "metadata": {},
     "output_type": "execute_result"
    }
   ],
   "source": [
    "s = 'apple'\n",
    "s.find('p')"
   ]
  },
  {
   "cell_type": "code",
   "execution_count": 51,
   "id": "7db18fd0",
   "metadata": {},
   "outputs": [
    {
     "data": {
      "text/plain": [
       "-1"
      ]
     },
     "execution_count": 51,
     "metadata": {},
     "output_type": "execute_result"
    }
   ],
   "source": [
    "s.find('x')"
   ]
  },
  {
   "cell_type": "code",
   "execution_count": 52,
   "id": "1024d2cd",
   "metadata": {},
   "outputs": [
    {
     "data": {
      "text/plain": [
       "['apple', 'banana', 'cherry']"
      ]
     },
     "execution_count": 52,
     "metadata": {},
     "output_type": "execute_result"
    }
   ],
   "source": [
    "my_list = ['apple','banana']\n",
    "my_list.append('cherry')\n",
    "my_list"
   ]
  },
  {
   "cell_type": "code",
   "execution_count": null,
   "id": "73121952",
   "metadata": {},
   "outputs": [],
   "source": [
    "# 함수정의 : 사용자 함수를 새로 만든다. \n",
    "# 인수 : 함수에 넣는 값(input) argument\n",
    "# 반환값 : return 값 (output)\n",
    "# 매개 변수 : 인수를 받아서 저장하는 변수 parameter"
   ]
  },
  {
   "cell_type": "code",
   "execution_count": null,
   "id": "b91e20ed",
   "metadata": {},
   "outputs": [],
   "source": [
    "def 함수명(매개변수):\n",
    "    ...\n",
    "    ...\n",
    "    return 반환값\n",
    "\n",
    "\n",
    "변수 = 함수명(인수)\n",
    "\n",
    "\n",
    "함수 형태 4가지\n",
    "1  노인수 노반환\n",
    "2    인수 노반환\n",
    "3  노인수 반환\n",
    "4    인수 반환   (대부분의 함수)"
   ]
  },
  {
   "cell_type": "code",
   "execution_count": 2,
   "id": "96ea983b",
   "metadata": {},
   "outputs": [
    {
     "name": "stdout",
     "output_type": "stream",
     "text": [
      "Hello Python\n",
      "Nice to meet you\n"
     ]
    }
   ],
   "source": [
    "\n",
    "\n",
    "def welcome(): # 노인수 노반환\n",
    "    print('Hello Python')\n",
    "    print('Nice to meet you')\n",
    "    \n",
    "    \n",
    "welcome()    \n"
   ]
  },
  {
   "cell_type": "code",
   "execution_count": 3,
   "id": "48a51197",
   "metadata": {},
   "outputs": [
    {
     "name": "stdout",
     "output_type": "stream",
     "text": [
      "내 이름은 james이고, 나이는 25살입니다.\n"
     ]
    }
   ],
   "source": [
    "def introduce(name, age):\n",
    "    print('내 이름은 {}이고, 나이는 {}살입니다.'.format(name, age))\n",
    "    \n",
    "    \n",
    "introduce('james', 25)"
   ]
  },
  {
   "cell_type": "code",
   "execution_count": 4,
   "id": "0f42eb2c",
   "metadata": {},
   "outputs": [
    {
     "name": "stdout",
     "output_type": "stream",
     "text": [
      "python\n",
      "happy\n",
      "birthday\n"
     ]
    }
   ],
   "source": [
    "def show(*args):\n",
    "    for item in args:\n",
    "        print(item)\n",
    "        \n",
    "show('python')\n",
    "show('happy','birthday')"
   ]
  },
  {
   "cell_type": "code",
   "execution_count": 7,
   "id": "bfb8093e",
   "metadata": {},
   "outputs": [
    {
     "ename": "SyntaxError",
     "evalue": "non-default argument follows default argument (<ipython-input-7-2bc3af1af600>, line 1)",
     "output_type": "error",
     "traceback": [
      "\u001b[1;36m  File \u001b[1;32m\"<ipython-input-7-2bc3af1af600>\"\u001b[1;36m, line \u001b[1;32m1\u001b[0m\n\u001b[1;33m    def greet(message=\"안녕하세요\", name):\u001b[0m\n\u001b[1;37m              ^\u001b[0m\n\u001b[1;31mSyntaxError\u001b[0m\u001b[1;31m:\u001b[0m non-default argument follows default argument\n"
     ]
    }
   ],
   "source": [
    "def greet(message=\"안녕하세요\", name):\n",
    "    print('{}님 {}'.format(name, message))\n",
    "    \n",
    "greet('김철수')"
   ]
  },
  {
   "cell_type": "code",
   "execution_count": 8,
   "id": "77bfde3e",
   "metadata": {},
   "outputs": [
    {
     "name": "stdout",
     "output_type": "stream",
     "text": [
      "김철수님 안녕하세요\n"
     ]
    }
   ],
   "source": [
    "def greet(name, message=\"안녕하세요\"):\n",
    "    print('{}님 {}'.format(name, message))\n",
    "    \n",
    "greet('김철수')"
   ]
  },
  {
   "cell_type": "code",
   "execution_count": 10,
   "id": "3bcee969",
   "metadata": {},
   "outputs": [
    {
     "name": "stdout",
     "output_type": "stream",
     "text": [
      "(1, 2, 3)의 합은 6입니다.\n",
      "(1, 2, 3, 4)의 합은 10입니다.\n"
     ]
    }
   ],
   "source": [
    "def adder(*args):\n",
    "    print('{}의 합은 {}입니다.'.format(args, sum(args)))\n",
    "    \n",
    "adder(1,2,3)\n",
    "adder(1,2,3,4)"
   ]
  },
  {
   "cell_type": "code",
   "execution_count": 12,
   "id": "232ff2d7",
   "metadata": {},
   "outputs": [
    {
     "name": "stdout",
     "output_type": "stream",
     "text": [
      "우편번호 12345\n",
      "서울시 영등포구 여의도동\n"
     ]
    }
   ],
   "source": [
    "def address():\n",
    "    str = '우편번호 12345\\n'\n",
    "    str += '서울시 영등포구 여의도동'\n",
    "    return str\n",
    "\n",
    "print(address())"
   ]
  },
  {
   "cell_type": "code",
   "execution_count": 13,
   "id": "fb4501ce",
   "metadata": {},
   "outputs": [
    {
     "name": "stdout",
     "output_type": "stream",
     "text": [
      "합계 15\n",
      "평균 3.0\n",
      "최대값 5\n",
      "최소값 1\n"
     ]
    }
   ],
   "source": [
    "def calculator(*args):\n",
    "    return sum(args), sum(args)/len(args), max(args), min(args)\n",
    "\n",
    "a, b, c, d = calculator(1,2,3,4,5)\n",
    "\n",
    "print('합계', a)\n",
    "print('평균', b)\n",
    "print('최대값', c)\n",
    "print('최소값', d)"
   ]
  },
  {
   "cell_type": "code",
   "execution_count": 14,
   "id": "ae1d2e57",
   "metadata": {},
   "outputs": [
    {
     "name": "stdout",
     "output_type": "stream",
     "text": [
      "에너지가 충전되었습니다.\n",
      "0보다 작은 에너지는 충전할 수 없습니다.\n"
     ]
    }
   ],
   "source": [
    "def charge(energy):\n",
    "    if energy < 0:\n",
    "        print('0보다 작은 에너지는 충전할 수 없습니다.')\n",
    "        return\n",
    "    print('에너지가 충전되었습니다.')\n",
    "    \n",
    "charge(1)\n",
    "charge(-1)"
   ]
  },
  {
   "cell_type": "code",
   "execution_count": 16,
   "id": "ad68c4d4",
   "metadata": {},
   "outputs": [
    {
     "name": "stdout",
     "output_type": "stream",
     "text": [
      "커피를 선택하세요(아메리카노, 카페라떼, 카푸치노)카푸치노\n",
      "얼마를 내시나요?3000\n",
      "3000원에 카푸치노를 선택하셨습니다.\n",
      "잔돈 1000원, 커피카푸치노\n"
     ]
    }
   ],
   "source": [
    "def coffe_machine(money, pick):\n",
    "    print('{}원에 {}를 선택하셨습니다.'.format(money, pick))\n",
    "    menu = {'아메리카노': 1000, '카페라떼': 1500, '카푸치노': 2000}\n",
    "    if pick not in menu:\n",
    "        print('{}는 판매하지 않습니다.'.format(pick))\n",
    "        return money, '없는 메뉴'\n",
    "    elif menu[pick] > money:\n",
    "        print('{}는 {}원입니다.'.format(pick, menu[pick]))\n",
    "        return money, '자금부족'\n",
    "    else:\n",
    "        return money - menu[pick], pick\n",
    "    \n",
    "order = input('커피를 선택하세요(아메리카노, 카페라떼, 카푸치노)')\n",
    "pay = int(input('얼마를 내시나요?'))\n",
    "\n",
    "change, coffe = coffe_machine(pay, order)\n",
    "print('잔돈 {}원, 커피{}'.format(change, coffe))"
   ]
  },
  {
   "cell_type": "code",
   "execution_count": 19,
   "id": "3a55d321",
   "metadata": {},
   "outputs": [
    {
     "name": "stdout",
     "output_type": "stream",
     "text": [
      "10\n"
     ]
    },
    {
     "ename": "NameError",
     "evalue": "name 'az' is not defined",
     "output_type": "error",
     "traceback": [
      "\u001b[1;31m---------------------------\u001b[0m",
      "\u001b[1;31mNameError\u001b[0mTraceback (most recent call last)",
      "\u001b[1;32m<ipython-input-19-b53a629057b2>\u001b[0m in \u001b[0;36m<module>\u001b[1;34m\u001b[0m\n\u001b[0;32m     12\u001b[0m \u001b[0mf\u001b[0m\u001b[1;33m(\u001b[0m\u001b[1;33m)\u001b[0m\u001b[1;33m\u001b[0m\u001b[1;33m\u001b[0m\u001b[0m\n\u001b[0;32m     13\u001b[0m \u001b[1;33m\u001b[0m\u001b[0m\n\u001b[1;32m---> 14\u001b[1;33m \u001b[0mprint\u001b[0m\u001b[1;33m(\u001b[0m\u001b[0maz\u001b[0m\u001b[1;33m)\u001b[0m\u001b[1;33m\u001b[0m\u001b[1;33m\u001b[0m\u001b[0m\n\u001b[0m",
      "\u001b[1;31mNameError\u001b[0m: name 'az' is not defined"
     ]
    }
   ],
   "source": [
    "# 함수 내부에서 선언한 변수는 함수 내부에서만 사용할 수 있다. \n",
    "# 지역 변수 local variable\n",
    "\n",
    "# 함수 외부에서 선언한 변수는 함수 내부나 함수 외부에서 모두 사용할 수 있다. \n",
    "# 전역 변수 global variable\n",
    "\n",
    "\n",
    "def f():\n",
    "    az = 10\n",
    "    print(az)\n",
    "    \n",
    "f()\n",
    "\n",
    "\n",
    "\n",
    "print(az)"
   ]
  },
  {
   "cell_type": "code",
   "execution_count": 21,
   "id": "1490cf24",
   "metadata": {},
   "outputs": [
    {
     "name": "stdout",
     "output_type": "stream",
     "text": [
      "10\n",
      "10\n"
     ]
    }
   ],
   "source": [
    "bz = 10\n",
    "def f():\n",
    "    print(bz)\n",
    "    \n",
    "f()\n",
    "print(bz)"
   ]
  },
  {
   "cell_type": "code",
   "execution_count": 22,
   "id": "46b860f9",
   "metadata": {},
   "outputs": [
    {
     "name": "stdout",
     "output_type": "stream",
     "text": [
      "0\n"
     ]
    }
   ],
   "source": [
    "a = 0\n",
    "def f():\n",
    "    print(a)\n",
    "    \n",
    "f()"
   ]
  },
  {
   "cell_type": "code",
   "execution_count": 23,
   "id": "8ec47541",
   "metadata": {},
   "outputs": [
    {
     "name": "stdout",
     "output_type": "stream",
     "text": [
      "0\n"
     ]
    }
   ],
   "source": [
    "print(a)"
   ]
  },
  {
   "cell_type": "code",
   "execution_count": 24,
   "id": "a8d93e12",
   "metadata": {},
   "outputs": [],
   "source": [
    "a = 0\n",
    "def f():\n",
    "    global a\n",
    "    a = 10\n",
    "    \n",
    "f()"
   ]
  },
  {
   "cell_type": "code",
   "execution_count": 25,
   "id": "64384c51",
   "metadata": {},
   "outputs": [
    {
     "name": "stdout",
     "output_type": "stream",
     "text": [
      "10\n"
     ]
    }
   ],
   "source": [
    "print(a)"
   ]
  },
  {
   "cell_type": "code",
   "execution_count": null,
   "id": "ba0de5a0",
   "metadata": {},
   "outputs": [],
   "source": []
  }
 ],
 "metadata": {
  "kernelspec": {
   "display_name": "Python 3",
   "language": "python",
   "name": "python3"
  },
  "language_info": {
   "codemirror_mode": {
    "name": "ipython",
    "version": 3
   },
   "file_extension": ".py",
   "mimetype": "text/x-python",
   "name": "python",
   "nbconvert_exporter": "python",
   "pygments_lexer": "ipython3",
   "version": "3.8.8"
  }
 },
 "nbformat": 4,
 "nbformat_minor": 5
}
